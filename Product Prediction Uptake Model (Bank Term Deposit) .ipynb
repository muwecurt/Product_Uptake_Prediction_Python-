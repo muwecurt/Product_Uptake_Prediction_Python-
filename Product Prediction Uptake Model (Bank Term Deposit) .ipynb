{
 "cells": [
  {
   "cell_type": "markdown",
   "id": "c0b8ad8a",
   "metadata": {},
   "source": [
    "# Bank Marketing Campaign Data"
   ]
  },
  {
   "cell_type": "markdown",
   "id": "0997ebd5",
   "metadata": {},
   "source": [
    "## Introduction:\n",
    "\n",
    "The prediction model uses direct marketing campaign data from a banking institution. Phone calls were used in the marketing campaigns to contact customers in order to determine whether the customer would subscribe to a term deposit. \n",
    "\n",
    "The objective of this project is to create a model that will predict whether or not a customer will sign up for the product (bank term deposit) based on the data at hand.\n",
    "\n",
    "\n",
    "## Data Specifications:\n",
    "\n",
    "1. Age - Age of the customer.\n",
    "2. Job - Profession of the customer.\n",
    "3. Marital Status - Relationship status of the customer.\n",
    "4. Education - Education level of the customer.\n",
    "5. Default - / Having a previously broken credit.\n",
    "6. Housing - Whether customer has a home loan.\n",
    "7. Loan - Whether the customer has a personal loan.\n",
    "8. Contact - Whether the customer was contacted on his home or mobile phone.\n",
    "9. Month - The last month when the customer was contacted.\n",
    "10. Day - The day when the customer was contacted.\n",
    "11. Duration - The total time spent on talking to the customer.\n",
    "12. Campaign - The number of contacts reaching the customer during the current campaign (including the last contact).\n",
    "13. Pdays: The number of days since the previous campaign, if reached (-1 if it was never reached before).\n",
    "14. Previous: The number of contacts that reached the customer before this campaign.\n",
    "15. Poutcome: Previous campaign result, whether successful or not.\n",
    "16. Deposit: Whether customer has a term deposit or not."
   ]
  },
  {
   "cell_type": "markdown",
   "id": "caab828b",
   "metadata": {},
   "source": [
    "### Importing libraries"
   ]
  },
  {
   "cell_type": "code",
   "execution_count": 1,
   "id": "4f14c546",
   "metadata": {},
   "outputs": [],
   "source": [
    "import numpy as np\n",
    "import pandas as pd\n",
    "import matplotlib.pyplot as plt\n",
    "import seaborn as sns"
   ]
  },
  {
   "cell_type": "markdown",
   "id": "3741af14",
   "metadata": {},
   "source": [
    "### Loading data"
   ]
  },
  {
   "cell_type": "code",
   "execution_count": 2,
   "id": "6d2bb299",
   "metadata": {},
   "outputs": [
    {
     "data": {
      "text/html": [
       "<div>\n",
       "<style scoped>\n",
       "    .dataframe tbody tr th:only-of-type {\n",
       "        vertical-align: middle;\n",
       "    }\n",
       "\n",
       "    .dataframe tbody tr th {\n",
       "        vertical-align: top;\n",
       "    }\n",
       "\n",
       "    .dataframe thead th {\n",
       "        text-align: right;\n",
       "    }\n",
       "</style>\n",
       "<table border=\"1\" class=\"dataframe\">\n",
       "  <thead>\n",
       "    <tr style=\"text-align: right;\">\n",
       "      <th></th>\n",
       "      <th>age</th>\n",
       "      <th>job</th>\n",
       "      <th>marital</th>\n",
       "      <th>education</th>\n",
       "      <th>default</th>\n",
       "      <th>balance</th>\n",
       "      <th>housing</th>\n",
       "      <th>loan</th>\n",
       "      <th>contact</th>\n",
       "      <th>day</th>\n",
       "      <th>month</th>\n",
       "      <th>duration</th>\n",
       "      <th>campaign</th>\n",
       "      <th>pdays</th>\n",
       "      <th>previous</th>\n",
       "      <th>poutcome</th>\n",
       "      <th>deposit</th>\n",
       "    </tr>\n",
       "  </thead>\n",
       "  <tbody>\n",
       "    <tr>\n",
       "      <th>0</th>\n",
       "      <td>59</td>\n",
       "      <td>admin.</td>\n",
       "      <td>married</td>\n",
       "      <td>secondary</td>\n",
       "      <td>no</td>\n",
       "      <td>2343</td>\n",
       "      <td>yes</td>\n",
       "      <td>no</td>\n",
       "      <td>unknown</td>\n",
       "      <td>5</td>\n",
       "      <td>may</td>\n",
       "      <td>1042</td>\n",
       "      <td>1</td>\n",
       "      <td>-1</td>\n",
       "      <td>0</td>\n",
       "      <td>unknown</td>\n",
       "      <td>yes</td>\n",
       "    </tr>\n",
       "    <tr>\n",
       "      <th>1</th>\n",
       "      <td>56</td>\n",
       "      <td>admin.</td>\n",
       "      <td>married</td>\n",
       "      <td>secondary</td>\n",
       "      <td>no</td>\n",
       "      <td>45</td>\n",
       "      <td>no</td>\n",
       "      <td>no</td>\n",
       "      <td>unknown</td>\n",
       "      <td>5</td>\n",
       "      <td>may</td>\n",
       "      <td>1467</td>\n",
       "      <td>1</td>\n",
       "      <td>-1</td>\n",
       "      <td>0</td>\n",
       "      <td>unknown</td>\n",
       "      <td>yes</td>\n",
       "    </tr>\n",
       "    <tr>\n",
       "      <th>2</th>\n",
       "      <td>41</td>\n",
       "      <td>technician</td>\n",
       "      <td>married</td>\n",
       "      <td>secondary</td>\n",
       "      <td>no</td>\n",
       "      <td>1270</td>\n",
       "      <td>yes</td>\n",
       "      <td>no</td>\n",
       "      <td>unknown</td>\n",
       "      <td>5</td>\n",
       "      <td>may</td>\n",
       "      <td>1389</td>\n",
       "      <td>1</td>\n",
       "      <td>-1</td>\n",
       "      <td>0</td>\n",
       "      <td>unknown</td>\n",
       "      <td>yes</td>\n",
       "    </tr>\n",
       "    <tr>\n",
       "      <th>3</th>\n",
       "      <td>55</td>\n",
       "      <td>services</td>\n",
       "      <td>married</td>\n",
       "      <td>secondary</td>\n",
       "      <td>no</td>\n",
       "      <td>2476</td>\n",
       "      <td>yes</td>\n",
       "      <td>no</td>\n",
       "      <td>unknown</td>\n",
       "      <td>5</td>\n",
       "      <td>may</td>\n",
       "      <td>579</td>\n",
       "      <td>1</td>\n",
       "      <td>-1</td>\n",
       "      <td>0</td>\n",
       "      <td>unknown</td>\n",
       "      <td>yes</td>\n",
       "    </tr>\n",
       "    <tr>\n",
       "      <th>4</th>\n",
       "      <td>54</td>\n",
       "      <td>admin.</td>\n",
       "      <td>married</td>\n",
       "      <td>tertiary</td>\n",
       "      <td>no</td>\n",
       "      <td>184</td>\n",
       "      <td>no</td>\n",
       "      <td>no</td>\n",
       "      <td>unknown</td>\n",
       "      <td>5</td>\n",
       "      <td>may</td>\n",
       "      <td>673</td>\n",
       "      <td>2</td>\n",
       "      <td>-1</td>\n",
       "      <td>0</td>\n",
       "      <td>unknown</td>\n",
       "      <td>yes</td>\n",
       "    </tr>\n",
       "  </tbody>\n",
       "</table>\n",
       "</div>"
      ],
      "text/plain": [
       "   age         job  marital  education default  balance housing loan  contact  \\\n",
       "0   59      admin.  married  secondary      no     2343     yes   no  unknown   \n",
       "1   56      admin.  married  secondary      no       45      no   no  unknown   \n",
       "2   41  technician  married  secondary      no     1270     yes   no  unknown   \n",
       "3   55    services  married  secondary      no     2476     yes   no  unknown   \n",
       "4   54      admin.  married   tertiary      no      184      no   no  unknown   \n",
       "\n",
       "   day month  duration  campaign  pdays  previous poutcome deposit  \n",
       "0    5   may      1042         1     -1         0  unknown     yes  \n",
       "1    5   may      1467         1     -1         0  unknown     yes  \n",
       "2    5   may      1389         1     -1         0  unknown     yes  \n",
       "3    5   may       579         1     -1         0  unknown     yes  \n",
       "4    5   may       673         2     -1         0  unknown     yes  "
      ]
     },
     "execution_count": 2,
     "metadata": {},
     "output_type": "execute_result"
    }
   ],
   "source": [
    "data = pd.read_csv('C:/Data Science Projects/Product Uptake Prediction/bank.csv')\n",
    "\n",
    "data.head()"
   ]
  },
  {
   "cell_type": "markdown",
   "id": "4cbff329",
   "metadata": {},
   "source": [
    "### Checking dataframe info\n",
    "\n",
    "number of columns, column labels, column data types, memory usage, range index, and the number of cells in each column (non-null values)"
   ]
  },
  {
   "cell_type": "code",
   "execution_count": 3,
   "id": "b8868f30",
   "metadata": {},
   "outputs": [
    {
     "name": "stdout",
     "output_type": "stream",
     "text": [
      "<class 'pandas.core.frame.DataFrame'>\n",
      "RangeIndex: 11162 entries, 0 to 11161\n",
      "Data columns (total 17 columns):\n",
      " #   Column     Non-Null Count  Dtype \n",
      "---  ------     --------------  ----- \n",
      " 0   age        11162 non-null  int64 \n",
      " 1   job        11162 non-null  object\n",
      " 2   marital    11162 non-null  object\n",
      " 3   education  11162 non-null  object\n",
      " 4   default    11162 non-null  object\n",
      " 5   balance    11162 non-null  int64 \n",
      " 6   housing    11162 non-null  object\n",
      " 7   loan       11162 non-null  object\n",
      " 8   contact    11162 non-null  object\n",
      " 9   day        11162 non-null  int64 \n",
      " 10  month      11162 non-null  object\n",
      " 11  duration   11162 non-null  int64 \n",
      " 12  campaign   11162 non-null  int64 \n",
      " 13  pdays      11162 non-null  int64 \n",
      " 14  previous   11162 non-null  int64 \n",
      " 15  poutcome   11162 non-null  object\n",
      " 16  deposit    11162 non-null  object\n",
      "dtypes: int64(7), object(10)\n",
      "memory usage: 1.4+ MB\n"
     ]
    }
   ],
   "source": [
    "data.info()"
   ]
  },
  {
   "cell_type": "markdown",
   "id": "073f0ecb",
   "metadata": {},
   "source": [
    "### Checking missing values \n",
    "\n",
    "(In this case 'NA's as there are no null values as observed above)."
   ]
  },
  {
   "cell_type": "code",
   "execution_count": 4,
   "id": "bc3ec82a",
   "metadata": {},
   "outputs": [
    {
     "data": {
      "text/plain": [
       "age          0\n",
       "job          0\n",
       "marital      0\n",
       "education    0\n",
       "default      0\n",
       "balance      0\n",
       "housing      0\n",
       "loan         0\n",
       "contact      0\n",
       "day          0\n",
       "month        0\n",
       "duration     0\n",
       "campaign     0\n",
       "pdays        0\n",
       "previous     0\n",
       "poutcome     0\n",
       "deposit      0\n",
       "dtype: int64"
      ]
     },
     "execution_count": 4,
     "metadata": {},
     "output_type": "execute_result"
    }
   ],
   "source": [
    "data.isna().sum()"
   ]
  },
  {
   "cell_type": "markdown",
   "id": "3c072a86",
   "metadata": {},
   "source": [
    "### Outlier detection"
   ]
  },
  {
   "cell_type": "code",
   "execution_count": 5,
   "id": "cf662a6f",
   "metadata": {},
   "outputs": [],
   "source": [
    "from collections import Counter\n",
    "\n",
    "def detect_outliers(data,features):\n",
    "    \n",
    "    outlier_indices = []\n",
    "    \n",
    "    for f in features:\n",
    "        \n",
    "        # 1st quartile\n",
    "        Q1 = np.percentile(data[f],25)\n",
    "        \n",
    "        # 3rd quartile\n",
    "        Q3 = np.percentile(data[f],75)\n",
    "        \n",
    "        # IQR\n",
    "        IQR = Q3 - Q1\n",
    "        \n",
    "        # Outlier size\n",
    "        outlier_size = IQR * 1.5\n",
    "        \n",
    "        # detect outliers indices\n",
    "        outlier_list = data[(data[f] < Q1 - outlier_size) | (data[f] > Q3 + outlier_size)].index\n",
    "        \n",
    "        # store outlier indices\n",
    "        outlier_indices.extend(outlier_list)\n",
    "    \n",
    "    outlier_indices = Counter(outlier_indices)\n",
    "    \n",
    "    multiple_outliers = list(i for i, v in outlier_indices.items() if v > 2)\n",
    "    \n",
    "    return multiple_outliers"
   ]
  },
  {
   "cell_type": "markdown",
   "id": "977f55af",
   "metadata": {},
   "source": [
    "#### Identify outliers based on the features (duration, campaign, and previous) directly linked to the marketing campaign."
   ]
  },
  {
   "cell_type": "code",
   "execution_count": 6,
   "id": "eceabedd",
   "metadata": {},
   "outputs": [
    {
     "data": {
      "text/html": [
       "<div>\n",
       "<style scoped>\n",
       "    .dataframe tbody tr th:only-of-type {\n",
       "        vertical-align: middle;\n",
       "    }\n",
       "\n",
       "    .dataframe tbody tr th {\n",
       "        vertical-align: top;\n",
       "    }\n",
       "\n",
       "    .dataframe thead th {\n",
       "        text-align: right;\n",
       "    }\n",
       "</style>\n",
       "<table border=\"1\" class=\"dataframe\">\n",
       "  <thead>\n",
       "    <tr style=\"text-align: right;\">\n",
       "      <th></th>\n",
       "      <th>age</th>\n",
       "      <th>job</th>\n",
       "      <th>marital</th>\n",
       "      <th>education</th>\n",
       "      <th>default</th>\n",
       "      <th>balance</th>\n",
       "      <th>housing</th>\n",
       "      <th>loan</th>\n",
       "      <th>contact</th>\n",
       "      <th>day</th>\n",
       "      <th>month</th>\n",
       "      <th>duration</th>\n",
       "      <th>campaign</th>\n",
       "      <th>pdays</th>\n",
       "      <th>previous</th>\n",
       "      <th>poutcome</th>\n",
       "      <th>deposit</th>\n",
       "    </tr>\n",
       "  </thead>\n",
       "  <tbody>\n",
       "  </tbody>\n",
       "</table>\n",
       "</div>"
      ],
      "text/plain": [
       "Empty DataFrame\n",
       "Columns: [age, job, marital, education, default, balance, housing, loan, contact, day, month, duration, campaign, pdays, previous, poutcome, deposit]\n",
       "Index: []"
      ]
     },
     "execution_count": 6,
     "metadata": {},
     "output_type": "execute_result"
    }
   ],
   "source": [
    "data.loc[detect_outliers(data,['duration','campaign','previous'])]"
   ]
  },
  {
   "cell_type": "markdown",
   "id": "98236da8",
   "metadata": {},
   "source": [
    "##### No outlier detected.\n",
    "\n",
    "##### NB\\: Unless outliers are caused by data entry errors, usually outliers should not be removed as they represent the natural occurence of the data."
   ]
  },
  {
   "cell_type": "markdown",
   "id": "6c1c6f82",
   "metadata": {},
   "source": [
    "### Descriptive statistics"
   ]
  },
  {
   "cell_type": "markdown",
   "id": "b4bcd4ab",
   "metadata": {},
   "source": [
    "#### Numerical variables"
   ]
  },
  {
   "cell_type": "code",
   "execution_count": 7,
   "id": "e153aa43",
   "metadata": {},
   "outputs": [
    {
     "data": {
      "text/html": [
       "<div>\n",
       "<style scoped>\n",
       "    .dataframe tbody tr th:only-of-type {\n",
       "        vertical-align: middle;\n",
       "    }\n",
       "\n",
       "    .dataframe tbody tr th {\n",
       "        vertical-align: top;\n",
       "    }\n",
       "\n",
       "    .dataframe thead th {\n",
       "        text-align: right;\n",
       "    }\n",
       "</style>\n",
       "<table border=\"1\" class=\"dataframe\">\n",
       "  <thead>\n",
       "    <tr style=\"text-align: right;\">\n",
       "      <th></th>\n",
       "      <th>age</th>\n",
       "      <th>balance</th>\n",
       "      <th>day</th>\n",
       "      <th>duration</th>\n",
       "      <th>campaign</th>\n",
       "      <th>pdays</th>\n",
       "      <th>previous</th>\n",
       "    </tr>\n",
       "  </thead>\n",
       "  <tbody>\n",
       "    <tr>\n",
       "      <th>count</th>\n",
       "      <td>11162.000000</td>\n",
       "      <td>11162.000000</td>\n",
       "      <td>11162.000000</td>\n",
       "      <td>11162.000000</td>\n",
       "      <td>11162.000000</td>\n",
       "      <td>11162.000000</td>\n",
       "      <td>11162.000000</td>\n",
       "    </tr>\n",
       "    <tr>\n",
       "      <th>mean</th>\n",
       "      <td>41.231948</td>\n",
       "      <td>1528.538524</td>\n",
       "      <td>15.658036</td>\n",
       "      <td>371.993818</td>\n",
       "      <td>2.508421</td>\n",
       "      <td>51.330407</td>\n",
       "      <td>0.832557</td>\n",
       "    </tr>\n",
       "    <tr>\n",
       "      <th>std</th>\n",
       "      <td>11.913369</td>\n",
       "      <td>3225.413326</td>\n",
       "      <td>8.420740</td>\n",
       "      <td>347.128386</td>\n",
       "      <td>2.722077</td>\n",
       "      <td>108.758282</td>\n",
       "      <td>2.292007</td>\n",
       "    </tr>\n",
       "    <tr>\n",
       "      <th>min</th>\n",
       "      <td>18.000000</td>\n",
       "      <td>-6847.000000</td>\n",
       "      <td>1.000000</td>\n",
       "      <td>2.000000</td>\n",
       "      <td>1.000000</td>\n",
       "      <td>-1.000000</td>\n",
       "      <td>0.000000</td>\n",
       "    </tr>\n",
       "    <tr>\n",
       "      <th>25%</th>\n",
       "      <td>32.000000</td>\n",
       "      <td>122.000000</td>\n",
       "      <td>8.000000</td>\n",
       "      <td>138.000000</td>\n",
       "      <td>1.000000</td>\n",
       "      <td>-1.000000</td>\n",
       "      <td>0.000000</td>\n",
       "    </tr>\n",
       "    <tr>\n",
       "      <th>50%</th>\n",
       "      <td>39.000000</td>\n",
       "      <td>550.000000</td>\n",
       "      <td>15.000000</td>\n",
       "      <td>255.000000</td>\n",
       "      <td>2.000000</td>\n",
       "      <td>-1.000000</td>\n",
       "      <td>0.000000</td>\n",
       "    </tr>\n",
       "    <tr>\n",
       "      <th>75%</th>\n",
       "      <td>49.000000</td>\n",
       "      <td>1708.000000</td>\n",
       "      <td>22.000000</td>\n",
       "      <td>496.000000</td>\n",
       "      <td>3.000000</td>\n",
       "      <td>20.750000</td>\n",
       "      <td>1.000000</td>\n",
       "    </tr>\n",
       "    <tr>\n",
       "      <th>max</th>\n",
       "      <td>95.000000</td>\n",
       "      <td>81204.000000</td>\n",
       "      <td>31.000000</td>\n",
       "      <td>3881.000000</td>\n",
       "      <td>63.000000</td>\n",
       "      <td>854.000000</td>\n",
       "      <td>58.000000</td>\n",
       "    </tr>\n",
       "  </tbody>\n",
       "</table>\n",
       "</div>"
      ],
      "text/plain": [
       "                age       balance           day      duration      campaign  \\\n",
       "count  11162.000000  11162.000000  11162.000000  11162.000000  11162.000000   \n",
       "mean      41.231948   1528.538524     15.658036    371.993818      2.508421   \n",
       "std       11.913369   3225.413326      8.420740    347.128386      2.722077   \n",
       "min       18.000000  -6847.000000      1.000000      2.000000      1.000000   \n",
       "25%       32.000000    122.000000      8.000000    138.000000      1.000000   \n",
       "50%       39.000000    550.000000     15.000000    255.000000      2.000000   \n",
       "75%       49.000000   1708.000000     22.000000    496.000000      3.000000   \n",
       "max       95.000000  81204.000000     31.000000   3881.000000     63.000000   \n",
       "\n",
       "              pdays      previous  \n",
       "count  11162.000000  11162.000000  \n",
       "mean      51.330407      0.832557  \n",
       "std      108.758282      2.292007  \n",
       "min       -1.000000      0.000000  \n",
       "25%       -1.000000      0.000000  \n",
       "50%       -1.000000      0.000000  \n",
       "75%       20.750000      1.000000  \n",
       "max      854.000000     58.000000  "
      ]
     },
     "execution_count": 7,
     "metadata": {},
     "output_type": "execute_result"
    }
   ],
   "source": [
    "data.describe()"
   ]
  },
  {
   "cell_type": "code",
   "execution_count": 8,
   "id": "2404014b",
   "metadata": {},
   "outputs": [],
   "source": [
    "num_features = ['age','balance','day','duration','campaign','pdays','previous']"
   ]
  },
  {
   "cell_type": "code",
   "execution_count": 9,
   "id": "cad450c5",
   "metadata": {},
   "outputs": [],
   "source": [
    "def area_plot(feature):\n",
    "    var = data[feature]\n",
    "       \n",
    "    pd.crosstab(var,data.deposit).plot(kind=\"area\",figsize=(15,7),color=['#00ccff','#00bb00' ])\n",
    "    plt.title(\"{} Distribution\".format(feature))\n",
    "    plt.xlabel(\"{}\".format(feature))\n",
    "    plt.ylabel('Frequency')\n",
    "    plt.show()"
   ]
  },
  {
   "cell_type": "code",
   "execution_count": 10,
   "id": "8b5793bb",
   "metadata": {},
   "outputs": [
    {
     "data": {
      "image/png": "[encoded data removed]",
      "text/plain": [
       "<Figure size 1080x504 with 1 Axes>"
      ]
     },
     "metadata": {
      "needs_background": "light"
     },
     "output_type": "display_data"
    },
    {
     "data": {
      "image/png": "[encoded data removed]",
      "text/plain": [
       "<Figure size 1080x504 with 1 Axes>"
      ]
     },
     "metadata": {
      "needs_background": "light"
     },
     "output_type": "display_data"
    }
   ],
   "source": [
    "# Considering only age and balance\n",
    "\n",
    "num_features1 = ['age','balance']\n",
    "\n",
    "for f in num_features1:\n",
    "    area_plot(f)"
   ]
  },
  {
   "cell_type": "markdown",
   "id": "61dd69a9",
   "metadata": {},
   "source": [
    "#### Age:\n",
    "\n",
    "From the age distribution graph above, we can note that the highest number of customers with term deposits range between the ages 30 - 35 years. Also, within the same age range, there are many customers who have not subscribed to a term deposit, hence there is still a huge opportunity to sell this product others customers within this age range.\n",
    "\n",
    "#### Balance\n",
    "\n",
    "From the balance distribution graph above, we note that majority of the customers who have subscribed to term deposits have a nearly zero balance. we may observe this more clearly by grouping the customers based on their balances.\n"
   ]
  },
  {
   "cell_type": "code",
   "execution_count": 11,
   "id": "670f2fc3",
   "metadata": {},
   "outputs": [
    {
     "data": {
      "text/html": [
       "<div>\n",
       "<style scoped>\n",
       "    .dataframe tbody tr th:only-of-type {\n",
       "        vertical-align: middle;\n",
       "    }\n",
       "\n",
       "    .dataframe tbody tr th {\n",
       "        vertical-align: top;\n",
       "    }\n",
       "\n",
       "    .dataframe thead th {\n",
       "        text-align: right;\n",
       "    }\n",
       "</style>\n",
       "<table border=\"1\" class=\"dataframe\">\n",
       "  <thead>\n",
       "    <tr style=\"text-align: right;\">\n",
       "      <th>bal_cat</th>\n",
       "      <th>Average_bal</th>\n",
       "      <th>High_bal</th>\n",
       "      <th>Low_bal</th>\n",
       "      <th>Negative_bal</th>\n",
       "    </tr>\n",
       "    <tr>\n",
       "      <th>deposit</th>\n",
       "      <th></th>\n",
       "      <th></th>\n",
       "      <th></th>\n",
       "      <th></th>\n",
       "    </tr>\n",
       "  </thead>\n",
       "  <tbody>\n",
       "    <tr>\n",
       "      <th>no</th>\n",
       "      <td>42.0</td>\n",
       "      <td>41.0</td>\n",
       "      <td>54.0</td>\n",
       "      <td>69.0</td>\n",
       "    </tr>\n",
       "    <tr>\n",
       "      <th>yes</th>\n",
       "      <td>58.0</td>\n",
       "      <td>59.0</td>\n",
       "      <td>46.0</td>\n",
       "      <td>31.0</td>\n",
       "    </tr>\n",
       "  </tbody>\n",
       "</table>\n",
       "</div>"
      ],
      "text/plain": [
       "bal_cat  Average_bal  High_bal  Low_bal  Negative_bal\n",
       "deposit                                              \n",
       "no              42.0      41.0     54.0          69.0\n",
       "yes             58.0      59.0     46.0          31.0"
      ]
     },
     "execution_count": 11,
     "metadata": {},
     "output_type": "execute_result"
    }
   ],
   "source": [
    "# Categorizing the customers by balance\n",
    "\n",
    "data1 = data.copy()\n",
    "\n",
    "data1.loc[data1['balance'] >= 10000, 'bal_cat'] = \"High_bal\"\n",
    "data1.loc[(data1['balance'] > 2000) & (data1['balance'] < 10000),'bal_cat'] = \"Average_bal\"\n",
    "data1.loc[(data1['balance'] >= 0) & (data1['balance'] < 2000), 'bal_cat'] = \"Low_bal\"\n",
    "data1.loc[data1['balance'] < 0, 'bal_cat'] = \"Negative_bal\"\n",
    "\n",
    "table_bal_cat = pd.crosstab(data1['deposit'], data1['bal_cat']).apply(lambda x: x/x.sum() * 100).round()\n",
    "table_bal_cat"
   ]
  },
  {
   "cell_type": "markdown",
   "id": "016b20e7",
   "metadata": {},
   "source": [
    "From table above we can note that nearly 60% of those customers having average and high balances (over 2,000)  have a term deposit. Important to note is that quite a significant proportion of customers with low and negative balances also have a term deposit. This indicates that the marketing team can target customers with any balance amount."
   ]
  },
  {
   "cell_type": "markdown",
   "id": "1d25f5f4",
   "metadata": {},
   "source": [
    "#### Categorical variables"
   ]
  },
  {
   "cell_type": "code",
   "execution_count": 12,
   "id": "17326cc9",
   "metadata": {},
   "outputs": [],
   "source": [
    "def bar_plot(feature):\n",
    "    var = data[feature]\n",
    "       \n",
    "    pd.crosstab(var,data.deposit).plot(kind=\"bar\",figsize=(15,7),color=['#00ccff','#00bb00' ])\n",
    "    plt.title(\"{} distribution\".format(feature))\n",
    "    plt.xlabel(\"{}\".format(feature))\n",
    "    plt.ylabel('Frequency')\n",
    "    plt.show()"
   ]
  },
  {
   "cell_type": "code",
   "execution_count": 13,
   "id": "135311d1",
   "metadata": {},
   "outputs": [
    {
     "data": {
      "image/png": "[encoded data removed]",
      "text/plain": [
       "<Figure size 1080x504 with 1 Axes>"
      ]
     },
     "metadata": {
      "needs_background": "light"
     },
     "output_type": "display_data"
    },
    {
     "data": {
      "image/png": "[encoded data removed]",
      "text/plain": [
       "<Figure size 1080x504 with 1 Axes>"
      ]
     },
     "metadata": {
      "needs_background": "light"
     },
     "output_type": "display_data"
    },
    {
     "data": {
      "image/png": "[encoded data removed]",
      "text/plain": [
       "<Figure size 1080x504 with 1 Axes>"
      ]
     },
     "metadata": {
      "needs_background": "light"
     },
     "output_type": "display_data"
    },
    {
     "data": {
      "image/png": "[encoded data removed]",
      "text/plain": [
       "<Figure size 1080x504 with 1 Axes>"
      ]
     },
     "metadata": {
      "needs_background": "light"
     },
     "output_type": "display_data"
    },
    {
     "data": {
      "image/png": "[encoded data removed]",
      "text/plain": [
       "<Figure size 1080x504 with 1 Axes>"
      ]
     },
     "metadata": {
      "needs_background": "light"
     },
     "output_type": "display_data"
    },
    {
     "data": {
      "image/png": "[encoded data removed]",
      "text/plain": [
       "<Figure size 1080x504 with 1 Axes>"
      ]
     },
     "metadata": {
      "needs_background": "light"
     },
     "output_type": "display_data"
    },
    {
     "data": {
      "image/png": "[encoded data removed]",
      "text/plain": [
       "<Figure size 1080x504 with 1 Axes>"
      ]
     },
     "metadata": {
      "needs_background": "light"
     },
     "output_type": "display_data"
    },
    {
     "data": {
      "image/png": "[encoded data removed]",
      "text/plain": [
       "<Figure size 1080x504 with 1 Axes>"
      ]
     },
     "metadata": {
      "needs_background": "light"
     },
     "output_type": "display_data"
    },
    {
     "data": {
      "image/png": "[encoded data removed]",
      "text/plain": [
       "<Figure size 1080x504 with 1 Axes>"
      ]
     },
     "metadata": {
      "needs_background": "light"
     },
     "output_type": "display_data"
    }
   ],
   "source": [
    "cat_features = ['job', 'marital', 'education', 'default', 'housing', 'loan','contact', 'month','poutcome']\n",
    "\n",
    "for f in cat_features:\n",
    "    bar_plot(f)\n",
    "    \n",
    "    "
   ]
  },
  {
   "cell_type": "markdown",
   "id": "300c78bb",
   "metadata": {},
   "source": [
    "The graphs above can provide an overview of the characteristics of customers with high number of term deposits. For example, from the first graph, we can note that customers with a management job have the highest number of term deposits and so on. For a detailed summary of the exact numbers and subscription proportions of each variable see below."
   ]
  },
  {
   "cell_type": "code",
   "execution_count": 14,
   "id": "201d5852",
   "metadata": {},
   "outputs": [
    {
     "name": "stdout",
     "output_type": "stream",
     "text": [
      "job      admin.  blue-collar  entrepreneur  housemaid  management  retired  \\\n",
      "deposit                                                                      \n",
      "no         53.0         64.0          62.0       60.0        49.0     34.0   \n",
      "yes        47.0         36.0          38.0       40.0        51.0     66.0   \n",
      "\n",
      "job      self-employed  services  student  technician  unemployed  unknown  \n",
      "deposit                                                                     \n",
      "no                54.0      60.0     25.0        54.0        43.0     51.0  \n",
      "yes               46.0      40.0     75.0        46.0        57.0     49.0   \n",
      "\n",
      "job\n",
      "management       2566\n",
      "blue-collar      1944\n",
      "technician       1823\n",
      "admin.           1334\n",
      "services          923\n",
      "retired           778\n",
      "self-employed     405\n",
      "student           360\n",
      "unemployed        357\n",
      "entrepreneur      328\n",
      "housemaid         274\n",
      "unknown            70\n",
      "dtype: int64 \n",
      "\n",
      "marital  divorced  married  single\n",
      "deposit                           \n",
      "no           52.0     57.0    46.0\n",
      "yes          48.0     43.0    54.0 \n",
      "\n",
      "marital\n",
      "married     6351\n",
      "single      3518\n",
      "divorced    1293\n",
      "dtype: int64 \n",
      "\n",
      "education  primary  secondary  tertiary  unknown\n",
      "deposit                                         \n",
      "no            61.0       55.0      46.0     49.0\n",
      "yes           39.0       45.0      54.0     51.0 \n",
      "\n",
      "education\n",
      "secondary    5476\n",
      "tertiary     3689\n",
      "primary      1500\n",
      "unknown       497\n",
      "dtype: int64 \n",
      "\n",
      "default    no   yes\n",
      "deposit            \n",
      "no       52.0  69.0\n",
      "yes      48.0  31.0 \n",
      "\n",
      "default\n",
      "no     10994\n",
      "yes      168\n",
      "dtype: int64 \n",
      "\n",
      "housing    no   yes\n",
      "deposit            \n",
      "no       43.0  63.0\n",
      "yes      57.0  37.0 \n",
      "\n",
      "housing\n",
      "no     5881\n",
      "yes    5281\n",
      "dtype: int64 \n",
      "\n",
      "loan       no   yes\n",
      "deposit            \n",
      "no       50.0  67.0\n",
      "yes      50.0  33.0 \n",
      "\n",
      "loan\n",
      "no     9702\n",
      "yes    1460\n",
      "dtype: int64 \n",
      "\n",
      "contact  cellular  telephone  unknown\n",
      "deposit                              \n",
      "no           46.0       50.0     77.0\n",
      "yes          54.0       50.0     23.0 \n",
      "\n",
      "contact\n",
      "cellular     8042\n",
      "unknown      2346\n",
      "telephone     774\n",
      "dtype: int64 \n",
      "\n",
      "month     apr   aug   dec   feb   jan   jul   jun   mar   may   nov   oct  \\\n",
      "deposit                                                                     \n",
      "no       37.0  55.0   9.0  43.0  59.0  59.0  55.0  10.0  67.0  57.0  18.0   \n",
      "yes      63.0  45.0  91.0  57.0  41.0  41.0  45.0  90.0  33.0  43.0  82.0   \n",
      "\n",
      "month     sep  \n",
      "deposit        \n",
      "no       16.0  \n",
      "yes      84.0   \n",
      "\n",
      "month\n",
      "may    2824\n",
      "aug    1519\n",
      "jul    1514\n",
      "jun    1222\n",
      "nov     943\n",
      "apr     923\n",
      "feb     776\n",
      "oct     392\n",
      "jan     344\n",
      "sep     319\n",
      "mar     276\n",
      "dec     110\n",
      "dtype: int64 \n",
      "\n",
      "poutcome  failure  other  success  unknown\n",
      "deposit                                   \n",
      "no           50.0   43.0      9.0     59.0\n",
      "yes          50.0   57.0     91.0     41.0 \n",
      "\n",
      "poutcome\n",
      "unknown    8326\n",
      "failure    1228\n",
      "success    1071\n",
      "other       537\n",
      "dtype: int64 \n",
      "\n"
     ]
    }
   ],
   "source": [
    "for f in cat_features:\n",
    "    print(pd.crosstab(data['deposit'], data[f]).apply(lambda x: x/x.sum() * 100).round(), '\\n')\n",
    "    print(data.groupby(f).size().sort_values(ascending=False), '\\n')\n",
    "          \n",
    "           "
   ]
  },
  {
   "cell_type": "markdown",
   "id": "77c3bb55",
   "metadata": {},
   "source": [
    "## Correlations"
   ]
  },
  {
   "cell_type": "code",
   "execution_count": 15,
   "id": "7e1e2009",
   "metadata": {},
   "outputs": [
    {
     "data": {
      "text/plain": [
       "<AxesSubplot:>"
      ]
     },
     "execution_count": 15,
     "metadata": {},
     "output_type": "execute_result"
    },
    {
     "data": {
      "image/png": "[encoded data removed]",
      "text/plain": [
       "<Figure size 1080x504 with 2 Axes>"
      ]
     },
     "metadata": {
      "needs_background": "light"
     },
     "output_type": "display_data"
    }
   ],
   "source": [
    "fig, ax = plt.subplots(figsize=(15,7))         # Sample figsize in inches\n",
    "sns.heatmap(data.corr(), annot=True, linewidths=.5, ax=ax)"
   ]
  },
  {
   "cell_type": "markdown",
   "id": "50a0b42a",
   "metadata": {},
   "source": [
    "Majority of the variables have weak positive or negative correlations except the relationship between the 'pdays' and 'previous' variables (r=0.51)."
   ]
  },
  {
   "cell_type": "markdown",
   "id": "e70a3545",
   "metadata": {},
   "source": [
    "## Data Pre-processing before Modelling"
   ]
  },
  {
   "cell_type": "markdown",
   "id": "57b1711a",
   "metadata": {},
   "source": [
    "### One hot encoding"
   ]
  },
  {
   "cell_type": "code",
   "execution_count": 16,
   "id": "46a8e3e1",
   "metadata": {},
   "outputs": [
    {
     "data": {
      "text/html": [
       "<div>\n",
       "<style scoped>\n",
       "    .dataframe tbody tr th:only-of-type {\n",
       "        vertical-align: middle;\n",
       "    }\n",
       "\n",
       "    .dataframe tbody tr th {\n",
       "        vertical-align: top;\n",
       "    }\n",
       "\n",
       "    .dataframe thead th {\n",
       "        text-align: right;\n",
       "    }\n",
       "</style>\n",
       "<table border=\"1\" class=\"dataframe\">\n",
       "  <thead>\n",
       "    <tr style=\"text-align: right;\">\n",
       "      <th></th>\n",
       "      <th>age</th>\n",
       "      <th>job</th>\n",
       "      <th>marital</th>\n",
       "      <th>education</th>\n",
       "      <th>default</th>\n",
       "      <th>balance</th>\n",
       "      <th>housing</th>\n",
       "      <th>loan</th>\n",
       "      <th>contact</th>\n",
       "      <th>day</th>\n",
       "      <th>month</th>\n",
       "      <th>duration</th>\n",
       "      <th>campaign</th>\n",
       "      <th>pdays</th>\n",
       "      <th>previous</th>\n",
       "      <th>poutcome</th>\n",
       "      <th>deposit</th>\n",
       "    </tr>\n",
       "  </thead>\n",
       "  <tbody>\n",
       "    <tr>\n",
       "      <th>0</th>\n",
       "      <td>59</td>\n",
       "      <td>admin.</td>\n",
       "      <td>married</td>\n",
       "      <td>secondary</td>\n",
       "      <td>no</td>\n",
       "      <td>2343</td>\n",
       "      <td>yes</td>\n",
       "      <td>no</td>\n",
       "      <td>unknown</td>\n",
       "      <td>5</td>\n",
       "      <td>may</td>\n",
       "      <td>1042</td>\n",
       "      <td>1</td>\n",
       "      <td>0</td>\n",
       "      <td>0</td>\n",
       "      <td>unknown</td>\n",
       "      <td>1</td>\n",
       "    </tr>\n",
       "    <tr>\n",
       "      <th>1</th>\n",
       "      <td>56</td>\n",
       "      <td>admin.</td>\n",
       "      <td>married</td>\n",
       "      <td>secondary</td>\n",
       "      <td>no</td>\n",
       "      <td>45</td>\n",
       "      <td>no</td>\n",
       "      <td>no</td>\n",
       "      <td>unknown</td>\n",
       "      <td>5</td>\n",
       "      <td>may</td>\n",
       "      <td>1467</td>\n",
       "      <td>1</td>\n",
       "      <td>0</td>\n",
       "      <td>0</td>\n",
       "      <td>unknown</td>\n",
       "      <td>1</td>\n",
       "    </tr>\n",
       "    <tr>\n",
       "      <th>2</th>\n",
       "      <td>41</td>\n",
       "      <td>technician</td>\n",
       "      <td>married</td>\n",
       "      <td>secondary</td>\n",
       "      <td>no</td>\n",
       "      <td>1270</td>\n",
       "      <td>yes</td>\n",
       "      <td>no</td>\n",
       "      <td>unknown</td>\n",
       "      <td>5</td>\n",
       "      <td>may</td>\n",
       "      <td>1389</td>\n",
       "      <td>1</td>\n",
       "      <td>0</td>\n",
       "      <td>0</td>\n",
       "      <td>unknown</td>\n",
       "      <td>1</td>\n",
       "    </tr>\n",
       "    <tr>\n",
       "      <th>3</th>\n",
       "      <td>55</td>\n",
       "      <td>services</td>\n",
       "      <td>married</td>\n",
       "      <td>secondary</td>\n",
       "      <td>no</td>\n",
       "      <td>2476</td>\n",
       "      <td>yes</td>\n",
       "      <td>no</td>\n",
       "      <td>unknown</td>\n",
       "      <td>5</td>\n",
       "      <td>may</td>\n",
       "      <td>579</td>\n",
       "      <td>1</td>\n",
       "      <td>0</td>\n",
       "      <td>0</td>\n",
       "      <td>unknown</td>\n",
       "      <td>1</td>\n",
       "    </tr>\n",
       "    <tr>\n",
       "      <th>4</th>\n",
       "      <td>54</td>\n",
       "      <td>admin.</td>\n",
       "      <td>married</td>\n",
       "      <td>tertiary</td>\n",
       "      <td>no</td>\n",
       "      <td>184</td>\n",
       "      <td>no</td>\n",
       "      <td>no</td>\n",
       "      <td>unknown</td>\n",
       "      <td>5</td>\n",
       "      <td>may</td>\n",
       "      <td>673</td>\n",
       "      <td>2</td>\n",
       "      <td>0</td>\n",
       "      <td>0</td>\n",
       "      <td>unknown</td>\n",
       "      <td>1</td>\n",
       "    </tr>\n",
       "  </tbody>\n",
       "</table>\n",
       "</div>"
      ],
      "text/plain": [
       "   age         job  marital  education default  balance housing loan  contact  \\\n",
       "0   59      admin.  married  secondary      no     2343     yes   no  unknown   \n",
       "1   56      admin.  married  secondary      no       45      no   no  unknown   \n",
       "2   41  technician  married  secondary      no     1270     yes   no  unknown   \n",
       "3   55    services  married  secondary      no     2476     yes   no  unknown   \n",
       "4   54      admin.  married   tertiary      no      184      no   no  unknown   \n",
       "\n",
       "   day month  duration  campaign  pdays  previous poutcome  deposit  \n",
       "0    5   may      1042         1      0         0  unknown        1  \n",
       "1    5   may      1467         1      0         0  unknown        1  \n",
       "2    5   may      1389         1      0         0  unknown        1  \n",
       "3    5   may       579         1      0         0  unknown        1  \n",
       "4    5   may       673         2      0         0  unknown        1  "
      ]
     },
     "execution_count": 16,
     "metadata": {},
     "output_type": "execute_result"
    }
   ],
   "source": [
    "# Converting deposit column values to numerical values \n",
    "\n",
    "data['deposit'].replace(['yes', 'no'],[1, 0], inplace=True)\n",
    "\n",
    "# Removing negative values for pdays\n",
    "\n",
    "data['pdays'].replace([-1],[0], inplace=True)\n",
    "\n",
    "data.head()"
   ]
  },
  {
   "cell_type": "code",
   "execution_count": 17,
   "id": "e8db8fe9",
   "metadata": {},
   "outputs": [
    {
     "data": {
      "text/html": [
       "<div>\n",
       "<style scoped>\n",
       "    .dataframe tbody tr th:only-of-type {\n",
       "        vertical-align: middle;\n",
       "    }\n",
       "\n",
       "    .dataframe tbody tr th {\n",
       "        vertical-align: top;\n",
       "    }\n",
       "\n",
       "    .dataframe thead th {\n",
       "        text-align: right;\n",
       "    }\n",
       "</style>\n",
       "<table border=\"1\" class=\"dataframe\">\n",
       "  <thead>\n",
       "    <tr style=\"text-align: right;\">\n",
       "      <th></th>\n",
       "      <th>job_admin.</th>\n",
       "      <th>job_blue-collar</th>\n",
       "      <th>job_entrepreneur</th>\n",
       "      <th>job_housemaid</th>\n",
       "      <th>job_management</th>\n",
       "      <th>job_retired</th>\n",
       "      <th>job_self-employed</th>\n",
       "      <th>job_services</th>\n",
       "      <th>job_student</th>\n",
       "      <th>job_technician</th>\n",
       "      <th>...</th>\n",
       "      <th>month_jun</th>\n",
       "      <th>month_mar</th>\n",
       "      <th>month_may</th>\n",
       "      <th>month_nov</th>\n",
       "      <th>month_oct</th>\n",
       "      <th>month_sep</th>\n",
       "      <th>poutcome_failure</th>\n",
       "      <th>poutcome_other</th>\n",
       "      <th>poutcome_success</th>\n",
       "      <th>poutcome_unknown</th>\n",
       "    </tr>\n",
       "  </thead>\n",
       "  <tbody>\n",
       "    <tr>\n",
       "      <th>0</th>\n",
       "      <td>1</td>\n",
       "      <td>0</td>\n",
       "      <td>0</td>\n",
       "      <td>0</td>\n",
       "      <td>0</td>\n",
       "      <td>0</td>\n",
       "      <td>0</td>\n",
       "      <td>0</td>\n",
       "      <td>0</td>\n",
       "      <td>0</td>\n",
       "      <td>...</td>\n",
       "      <td>0</td>\n",
       "      <td>0</td>\n",
       "      <td>1</td>\n",
       "      <td>0</td>\n",
       "      <td>0</td>\n",
       "      <td>0</td>\n",
       "      <td>0</td>\n",
       "      <td>0</td>\n",
       "      <td>0</td>\n",
       "      <td>1</td>\n",
       "    </tr>\n",
       "    <tr>\n",
       "      <th>1</th>\n",
       "      <td>1</td>\n",
       "      <td>0</td>\n",
       "      <td>0</td>\n",
       "      <td>0</td>\n",
       "      <td>0</td>\n",
       "      <td>0</td>\n",
       "      <td>0</td>\n",
       "      <td>0</td>\n",
       "      <td>0</td>\n",
       "      <td>0</td>\n",
       "      <td>...</td>\n",
       "      <td>0</td>\n",
       "      <td>0</td>\n",
       "      <td>1</td>\n",
       "      <td>0</td>\n",
       "      <td>0</td>\n",
       "      <td>0</td>\n",
       "      <td>0</td>\n",
       "      <td>0</td>\n",
       "      <td>0</td>\n",
       "      <td>1</td>\n",
       "    </tr>\n",
       "    <tr>\n",
       "      <th>2</th>\n",
       "      <td>0</td>\n",
       "      <td>0</td>\n",
       "      <td>0</td>\n",
       "      <td>0</td>\n",
       "      <td>0</td>\n",
       "      <td>0</td>\n",
       "      <td>0</td>\n",
       "      <td>0</td>\n",
       "      <td>0</td>\n",
       "      <td>1</td>\n",
       "      <td>...</td>\n",
       "      <td>0</td>\n",
       "      <td>0</td>\n",
       "      <td>1</td>\n",
       "      <td>0</td>\n",
       "      <td>0</td>\n",
       "      <td>0</td>\n",
       "      <td>0</td>\n",
       "      <td>0</td>\n",
       "      <td>0</td>\n",
       "      <td>1</td>\n",
       "    </tr>\n",
       "    <tr>\n",
       "      <th>3</th>\n",
       "      <td>0</td>\n",
       "      <td>0</td>\n",
       "      <td>0</td>\n",
       "      <td>0</td>\n",
       "      <td>0</td>\n",
       "      <td>0</td>\n",
       "      <td>0</td>\n",
       "      <td>1</td>\n",
       "      <td>0</td>\n",
       "      <td>0</td>\n",
       "      <td>...</td>\n",
       "      <td>0</td>\n",
       "      <td>0</td>\n",
       "      <td>1</td>\n",
       "      <td>0</td>\n",
       "      <td>0</td>\n",
       "      <td>0</td>\n",
       "      <td>0</td>\n",
       "      <td>0</td>\n",
       "      <td>0</td>\n",
       "      <td>1</td>\n",
       "    </tr>\n",
       "    <tr>\n",
       "      <th>4</th>\n",
       "      <td>1</td>\n",
       "      <td>0</td>\n",
       "      <td>0</td>\n",
       "      <td>0</td>\n",
       "      <td>0</td>\n",
       "      <td>0</td>\n",
       "      <td>0</td>\n",
       "      <td>0</td>\n",
       "      <td>0</td>\n",
       "      <td>0</td>\n",
       "      <td>...</td>\n",
       "      <td>0</td>\n",
       "      <td>0</td>\n",
       "      <td>1</td>\n",
       "      <td>0</td>\n",
       "      <td>0</td>\n",
       "      <td>0</td>\n",
       "      <td>0</td>\n",
       "      <td>0</td>\n",
       "      <td>0</td>\n",
       "      <td>1</td>\n",
       "    </tr>\n",
       "  </tbody>\n",
       "</table>\n",
       "<p>5 rows × 44 columns</p>\n",
       "</div>"
      ],
      "text/plain": [
       "   job_admin.  job_blue-collar  job_entrepreneur  job_housemaid  \\\n",
       "0           1                0                 0              0   \n",
       "1           1                0                 0              0   \n",
       "2           0                0                 0              0   \n",
       "3           0                0                 0              0   \n",
       "4           1                0                 0              0   \n",
       "\n",
       "   job_management  job_retired  job_self-employed  job_services  job_student  \\\n",
       "0               0            0                  0             0            0   \n",
       "1               0            0                  0             0            0   \n",
       "2               0            0                  0             0            0   \n",
       "3               0            0                  0             1            0   \n",
       "4               0            0                  0             0            0   \n",
       "\n",
       "   job_technician  ...  month_jun  month_mar  month_may  month_nov  month_oct  \\\n",
       "0               0  ...          0          0          1          0          0   \n",
       "1               0  ...          0          0          1          0          0   \n",
       "2               1  ...          0          0          1          0          0   \n",
       "3               0  ...          0          0          1          0          0   \n",
       "4               0  ...          0          0          1          0          0   \n",
       "\n",
       "   month_sep  poutcome_failure  poutcome_other  poutcome_success  \\\n",
       "0          0                 0               0                 0   \n",
       "1          0                 0               0                 0   \n",
       "2          0                 0               0                 0   \n",
       "3          0                 0               0                 0   \n",
       "4          0                 0               0                 0   \n",
       "\n",
       "   poutcome_unknown  \n",
       "0                 1  \n",
       "1                 1  \n",
       "2                 1  \n",
       "3                 1  \n",
       "4                 1  \n",
       "\n",
       "[5 rows x 44 columns]"
      ]
     },
     "execution_count": 17,
     "metadata": {},
     "output_type": "execute_result"
    }
   ],
   "source": [
    "# Encoding the categorical values only\n",
    "\n",
    "new_cat_features = pd.get_dummies(data[cat_features], drop_first=False)\n",
    "\n",
    "new_cat_features.head()"
   ]
  },
  {
   "cell_type": "code",
   "execution_count": 18,
   "id": "f4c137f3",
   "metadata": {},
   "outputs": [
    {
     "name": "stdout",
     "output_type": "stream",
     "text": [
      "<class 'pandas.core.frame.DataFrame'>\n",
      "RangeIndex: 11162 entries, 0 to 11161\n",
      "Data columns (total 52 columns):\n",
      " #   Column               Non-Null Count  Dtype\n",
      "---  ------               --------------  -----\n",
      " 0   age                  11162 non-null  int64\n",
      " 1   balance              11162 non-null  int64\n",
      " 2   day                  11162 non-null  int64\n",
      " 3   duration             11162 non-null  int64\n",
      " 4   campaign             11162 non-null  int64\n",
      " 5   pdays                11162 non-null  int64\n",
      " 6   previous             11162 non-null  int64\n",
      " 7   deposit              11162 non-null  int64\n",
      " 8   job_admin.           11162 non-null  uint8\n",
      " 9   job_blue-collar      11162 non-null  uint8\n",
      " 10  job_entrepreneur     11162 non-null  uint8\n",
      " 11  job_housemaid        11162 non-null  uint8\n",
      " 12  job_management       11162 non-null  uint8\n",
      " 13  job_retired          11162 non-null  uint8\n",
      " 14  job_self-employed    11162 non-null  uint8\n",
      " 15  job_services         11162 non-null  uint8\n",
      " 16  job_student          11162 non-null  uint8\n",
      " 17  job_technician       11162 non-null  uint8\n",
      " 18  job_unemployed       11162 non-null  uint8\n",
      " 19  job_unknown          11162 non-null  uint8\n",
      " 20  marital_divorced     11162 non-null  uint8\n",
      " 21  marital_married      11162 non-null  uint8\n",
      " 22  marital_single       11162 non-null  uint8\n",
      " 23  education_primary    11162 non-null  uint8\n",
      " 24  education_secondary  11162 non-null  uint8\n",
      " 25  education_tertiary   11162 non-null  uint8\n",
      " 26  education_unknown    11162 non-null  uint8\n",
      " 27  default_no           11162 non-null  uint8\n",
      " 28  default_yes          11162 non-null  uint8\n",
      " 29  housing_no           11162 non-null  uint8\n",
      " 30  housing_yes          11162 non-null  uint8\n",
      " 31  loan_no              11162 non-null  uint8\n",
      " 32  loan_yes             11162 non-null  uint8\n",
      " 33  contact_cellular     11162 non-null  uint8\n",
      " 34  contact_telephone    11162 non-null  uint8\n",
      " 35  contact_unknown      11162 non-null  uint8\n",
      " 36  month_apr            11162 non-null  uint8\n",
      " 37  month_aug            11162 non-null  uint8\n",
      " 38  month_dec            11162 non-null  uint8\n",
      " 39  month_feb            11162 non-null  uint8\n",
      " 40  month_jan            11162 non-null  uint8\n",
      " 41  month_jul            11162 non-null  uint8\n",
      " 42  month_jun            11162 non-null  uint8\n",
      " 43  month_mar            11162 non-null  uint8\n",
      " 44  month_may            11162 non-null  uint8\n",
      " 45  month_nov            11162 non-null  uint8\n",
      " 46  month_oct            11162 non-null  uint8\n",
      " 47  month_sep            11162 non-null  uint8\n",
      " 48  poutcome_failure     11162 non-null  uint8\n",
      " 49  poutcome_other       11162 non-null  uint8\n",
      " 50  poutcome_success     11162 non-null  uint8\n",
      " 51  poutcome_unknown     11162 non-null  uint8\n",
      "dtypes: int64(8), uint8(44)\n",
      "memory usage: 1.1 MB\n"
     ]
    }
   ],
   "source": [
    "# Combining numerical and categorical independent variables\n",
    "\n",
    "df2 = pd.concat([data, new_cat_features], axis=1)\n",
    "\n",
    "data_main = df2.drop(['job', 'marital', 'education', 'default', 'housing', 'loan','contact', 'month', 'poutcome'], axis=1)\n",
    "    \n",
    "data_main.info()"
   ]
  },
  {
   "cell_type": "markdown",
   "id": "f217ed03",
   "metadata": {},
   "source": [
    "## Spliting the dataset"
   ]
  },
  {
   "cell_type": "code",
   "execution_count": 19,
   "id": "eef7e145",
   "metadata": {},
   "outputs": [],
   "source": [
    "# Spliting dataset into independent (X) and dependent (y) variables\n",
    "\n",
    "X=data_main.drop(['deposit'], axis=1)\n",
    "\n",
    "y=data_main['deposit']"
   ]
  },
  {
   "cell_type": "markdown",
   "id": "751dbcaf",
   "metadata": {},
   "source": [
    "## Test Train Split"
   ]
  },
  {
   "cell_type": "code",
   "execution_count": 20,
   "id": "49ccf644",
   "metadata": {},
   "outputs": [],
   "source": [
    "from sklearn.model_selection import train_test_split\n",
    "\n",
    "X_train, X_test, y_train, y_test = train_test_split(X, y, test_size = 0.2, random_state = 42)"
   ]
  },
  {
   "cell_type": "markdown",
   "id": "864f7859",
   "metadata": {},
   "source": [
    "## Feature scaling"
   ]
  },
  {
   "cell_type": "code",
   "execution_count": 21,
   "id": "a5e6bf10",
   "metadata": {},
   "outputs": [],
   "source": [
    "from sklearn.preprocessing import StandardScaler\n",
    "\n",
    "sc = StandardScaler()\n",
    "\n",
    "X_train = sc.fit_transform(X_train)\n",
    "\n",
    "X_test = sc.transform(X_test)"
   ]
  },
  {
   "cell_type": "markdown",
   "id": "355a8acf",
   "metadata": {},
   "source": [
    "## Modeling"
   ]
  },
  {
   "cell_type": "code",
   "execution_count": 40,
   "id": "d403aaa0",
   "metadata": {},
   "outputs": [],
   "source": [
    "from sklearn.model_selection import train_test_split\n",
    "from sklearn.metrics import cohen_kappa_score\n",
    "from sklearn.metrics import classification_report\n",
    "from sklearn.metrics import accuracy_score\n",
    "from sklearn.metrics import confusion_matrix\n",
    "from sklearn.metrics import ConfusionMatrixDisplay\n",
    "from sklearn.metrics import f1_score\n"
   ]
  },
  {
   "cell_type": "markdown",
   "id": "a646ceb8",
   "metadata": {},
   "source": [
    "### Logistic Regression"
   ]
  },
  {
   "cell_type": "code",
   "execution_count": 41,
   "id": "a799437d",
   "metadata": {},
   "outputs": [
    {
     "data": {
      "image/png": "[encoded data removed]",
      "text/plain": [
       "<Figure size 432x288 with 2 Axes>"
      ]
     },
     "metadata": {
      "needs_background": "light"
     },
     "output_type": "display_data"
    },
    {
     "name": "stdout",
     "output_type": "stream",
     "text": [
      "              precision    recall  f1-score   support\n",
      "\n",
      "           0       0.81      0.83      0.82      1166\n",
      "           1       0.81      0.78      0.80      1067\n",
      "\n",
      "    accuracy                           0.81      2233\n",
      "   macro avg       0.81      0.81      0.81      2233\n",
      "weighted avg       0.81      0.81      0.81      2233\n",
      "\n",
      "Logistic Regression accuracy:  80.83\n",
      "F1-Score:  79.56\n",
      "Cohen Kappa score:  61.53\n"
     ]
    }
   ],
   "source": [
    "from sklearn.linear_model import LogisticRegression\n",
    "\n",
    "lr_model = LogisticRegression()\n",
    "\n",
    "lr_model.fit(X_train,y_train)\n",
    "\n",
    "y_pred = lr_model.predict(X_test)\n",
    "\n",
    "confusion_matrix = confusion_matrix(y_test, y_pred)\n",
    "\n",
    "cm_display = ConfusionMatrixDisplay(confusion_matrix = confusion_matrix, display_labels = [False, True])\n",
    "\n",
    "cm_display.plot()\n",
    "plt.show()\n",
    "\n",
    "print(classification_report(y_test,y_pred))\n",
    "\n",
    "acc = accuracy_score(y_test,y_pred)*100\n",
    "print(\"Logistic Regression accuracy: \",acc.round(2))\n",
    "\n",
    "f1=f1_score(y_test,y_pred)*100\n",
    "print(\"F1-Score: \",f1.round(2))\n",
    "\n",
    "cohen_kappa = cohen_kappa_score(y_test, y_pred)*100\n",
    "print('Cohen Kappa score: ',cohen_kappa.round(2))"
   ]
  },
  {
   "cell_type": "markdown",
   "id": "0d550713",
   "metadata": {},
   "source": [
    "### Naive Bayes"
   ]
  },
  {
   "cell_type": "code",
   "execution_count": 27,
   "id": "7a14df80",
   "metadata": {},
   "outputs": [
    {
     "data": {
      "image/png": "[encoded data removed]",
      "text/plain": [
       "<Figure size 432x288 with 2 Axes>"
      ]
     },
     "metadata": {
      "needs_background": "light"
     },
     "output_type": "display_data"
    },
    {
     "name": "stdout",
     "output_type": "stream",
     "text": [
      "              precision    recall  f1-score   support\n",
      "\n",
      "           0       0.69      0.87      0.77      1166\n",
      "           1       0.80      0.57      0.67      1067\n",
      "\n",
      "    accuracy                           0.73      2233\n",
      "   macro avg       0.75      0.72      0.72      2233\n",
      "weighted avg       0.74      0.73      0.72      2233\n",
      "\n",
      "Naive Bayes accuracy:  72.91\n",
      "F1-Score:  66.92\n",
      "Cohen Kappa score:  45.04\n"
     ]
    }
   ],
   "source": [
    "from sklearn.naive_bayes import GaussianNB\n",
    "\n",
    "nb_model = GaussianNB()\n",
    "\n",
    "nb_model.fit(X_train,y_train)\n",
    "\n",
    "y_pred = nb_model.predict(X_test)\n",
    "\n",
    "confusion_matrix = confusion_matrix(y_test, y_pred)\n",
    "\n",
    "cm_display = ConfusionMatrixDisplay(confusion_matrix = confusion_matrix, display_labels = [False, True])\n",
    "\n",
    "cm_display.plot()\n",
    "plt.show()\n",
    "\n",
    "print(classification_report(y_test,y_pred))\n",
    "\n",
    "acc = accuracy_score(y_test,y_pred)*100\n",
    "print(\"Naive Bayes accuracy: \",acc.round(2))\n",
    "\n",
    "f1=f1_score(y_test,y_pred)*100\n",
    "print(\"F1-Score: \",f1.round(2))\n",
    "\n",
    "\n",
    "cohen_kappa = cohen_kappa_score(y_test, y_pred)*100\n",
    "print('Cohen Kappa score: ',cohen_kappa.round(2))"
   ]
  },
  {
   "cell_type": "markdown",
   "id": "09312a90",
   "metadata": {},
   "source": [
    "### Support Vector Machine (SVM)"
   ]
  },
  {
   "cell_type": "code",
   "execution_count": 29,
   "id": "4e566768",
   "metadata": {},
   "outputs": [
    {
     "data": {
      "image/png": "[encoded data removed]",
      "text/plain": [
       "<Figure size 432x288 with 2 Axes>"
      ]
     },
     "metadata": {
      "needs_background": "light"
     },
     "output_type": "display_data"
    },
    {
     "name": "stdout",
     "output_type": "stream",
     "text": [
      "              precision    recall  f1-score   support\n",
      "\n",
      "           0       0.85      0.83      0.84      1166\n",
      "           1       0.82      0.84      0.83      1067\n",
      "\n",
      "    accuracy                           0.84      2233\n",
      "   macro avg       0.83      0.84      0.84      2233\n",
      "weighted avg       0.84      0.84      0.84      2233\n",
      "\n",
      "SVM accuracy:  83.52\n",
      "F1-Score:  82.95\n",
      "Cohen Kappa score:  67.01\n"
     ]
    }
   ],
   "source": [
    "from sklearn.svm import SVC\n",
    "\n",
    "svc_model = SVC(kernel = 'rbf', random_state = 0)\n",
    "\n",
    "svc_model.fit(X_train, y_train)\n",
    "\n",
    "y_pred = svc_model.predict(X_test)\n",
    "\n",
    "confusion_matrix = confusion_matrix(y_test, y_pred)\n",
    "\n",
    "cm_display = ConfusionMatrixDisplay(confusion_matrix = confusion_matrix, display_labels = [False, True])\n",
    "\n",
    "cm_display.plot()\n",
    "plt.show()\n",
    "\n",
    "print(classification_report(y_test,y_pred))\n",
    "\n",
    "acc = accuracy_score(y_test,y_pred)*100\n",
    "print(\"SVM accuracy: \",acc.round(2))\n",
    "\n",
    "f1=f1_score(y_test,y_pred)*100\n",
    "print(\"F1-Score: \",f1.round(2))\n",
    "\n",
    "\n",
    "cohen_kappa = cohen_kappa_score(y_test, y_pred)*100\n",
    "print('Cohen Kappa score: ',cohen_kappa.round(2))"
   ]
  },
  {
   "cell_type": "markdown",
   "id": "c6de7549",
   "metadata": {},
   "source": [
    "### Decision Trees"
   ]
  },
  {
   "cell_type": "code",
   "execution_count": 33,
   "id": "74c9d2be",
   "metadata": {},
   "outputs": [
    {
     "data": {
      "image/png": "[encoded data removed]",
      "text/plain": [
       "<Figure size 432x288 with 2 Axes>"
      ]
     },
     "metadata": {
      "needs_background": "light"
     },
     "output_type": "display_data"
    },
    {
     "name": "stdout",
     "output_type": "stream",
     "text": [
      "              precision    recall  f1-score   support\n",
      "\n",
      "           0       0.85      0.80      0.82      1166\n",
      "           1       0.79      0.84      0.82      1067\n",
      "\n",
      "    accuracy                           0.82      2233\n",
      "   macro avg       0.82      0.82      0.82      2233\n",
      "weighted avg       0.82      0.82      0.82      2233\n",
      "\n",
      "Decision tree accuracy:  82.04\n",
      "F1-Score:  81.75\n",
      "Cohen Kappa score:  64.1\n"
     ]
    }
   ],
   "source": [
    "from sklearn.tree import DecisionTreeClassifier\n",
    "\n",
    "dt_model= DecisionTreeClassifier(criterion='gini', max_depth=10, random_state=0, min_samples_leaf=10)\n",
    "\n",
    "dt_model.fit(X_train, y_train)\n",
    "\n",
    "y_pred = dt_model.predict(X_test)\n",
    "\n",
    "confusion_matrix = confusion_matrix(y_test, y_pred)\n",
    "\n",
    "cm_display = ConfusionMatrixDisplay(confusion_matrix = confusion_matrix, display_labels = [False, True])\n",
    "\n",
    "cm_display.plot()\n",
    "plt.show()\n",
    "\n",
    "print(classification_report(y_test,y_pred))\n",
    "\n",
    "acc = accuracy_score(y_test,y_pred)*100\n",
    "print(\"Decision tree accuracy: \",acc.round(2))\n",
    "\n",
    "f1=f1_score(y_test,y_pred)*100\n",
    "print(\"F1-Score: \",f1.round(2))\n",
    "\n",
    "\n",
    "cohen_kappa = cohen_kappa_score(y_test, y_pred)*100\n",
    "print('Cohen Kappa score: ',cohen_kappa.round(2))"
   ]
  },
  {
   "cell_type": "markdown",
   "id": "1e6c3ef9",
   "metadata": {},
   "source": [
    "### Random Forest"
   ]
  },
  {
   "cell_type": "code",
   "execution_count": 31,
   "id": "09100fc0",
   "metadata": {},
   "outputs": [
    {
     "data": {
      "image/png": "[encoded data removed]",
      "text/plain": [
       "<Figure size 432x288 with 2 Axes>"
      ]
     },
     "metadata": {
      "needs_background": "light"
     },
     "output_type": "display_data"
    },
    {
     "name": "stdout",
     "output_type": "stream",
     "text": [
      "              precision    recall  f1-score   support\n",
      "\n",
      "           0       0.86      0.81      0.84      1166\n",
      "           1       0.81      0.86      0.83      1067\n",
      "\n",
      "    accuracy                           0.83      2233\n",
      "   macro avg       0.83      0.83      0.83      2233\n",
      "weighted avg       0.83      0.83      0.83      2233\n",
      "\n",
      "Random Forest accuracy:  83.34\n",
      "F1-Score:  83.08\n",
      "Cohen Kappa score:  66.7\n"
     ]
    }
   ],
   "source": [
    "from sklearn.ensemble import RandomForestClassifier\n",
    "\n",
    "rf_model = RandomForestClassifier(n_estimators=100, max_depth=10, random_state=0)\n",
    "\n",
    "rf_model.fit(X_train, y_train)\n",
    "\n",
    "y_pred = rf_model.predict(X_test)\n",
    "\n",
    "confusion_matrix = confusion_matrix(y_test, y_pred)\n",
    "\n",
    "cm_display = ConfusionMatrixDisplay(confusion_matrix = confusion_matrix, display_labels = [False, True])\n",
    "\n",
    "cm_display.plot()\n",
    "plt.show()\n",
    "\n",
    "print(classification_report(y_test,y_pred))\n",
    "\n",
    "acc = accuracy_score(y_test,y_pred)*100\n",
    "print(\"Random Forest accuracy: \",acc.round(2))\n",
    "\n",
    "f1=f1_score(y_test,y_pred)*100\n",
    "print(\"F1-Score: \",f1.round(2))\n",
    "\n",
    "cohen_kappa = cohen_kappa_score(y_test, y_pred)*100\n",
    "print('Cohen Kappa score: ',cohen_kappa.round(2))"
   ]
  },
  {
   "cell_type": "markdown",
   "id": "153b5d7e",
   "metadata": {},
   "source": [
    "### K-Nearest Neighbors"
   ]
  },
  {
   "cell_type": "code",
   "execution_count": 35,
   "id": "f1cd06f5",
   "metadata": {},
   "outputs": [
    {
     "data": {
      "image/png": "[encoded data removed]",
      "text/plain": [
       "<Figure size 432x288 with 2 Axes>"
      ]
     },
     "metadata": {
      "needs_background": "light"
     },
     "output_type": "display_data"
    },
    {
     "name": "stdout",
     "output_type": "stream",
     "text": [
      "              precision    recall  f1-score   support\n",
      "\n",
      "           0       0.69      0.88      0.78      1166\n",
      "           1       0.82      0.57      0.67      1067\n",
      "\n",
      "    accuracy                           0.73      2233\n",
      "   macro avg       0.76      0.73      0.72      2233\n",
      "weighted avg       0.75      0.73      0.73      2233\n",
      "\n",
      "KNN accuracy:  73.44\n",
      "F1-Score:  67.29\n",
      "Cohen Kappa score:  46.09\n"
     ]
    }
   ],
   "source": [
    "from sklearn.neighbors import KNeighborsClassifier\n",
    "\n",
    "knn_model = KNeighborsClassifier(n_neighbors = 4, algorithm='ball_tree')\n",
    "\n",
    "knn_model.fit(X_train, y_train)\n",
    "\n",
    "y_pred = knn_model.predict(X_test)\n",
    "\n",
    "confusion_matrix = confusion_matrix(y_test, y_pred)\n",
    "\n",
    "cm_display = ConfusionMatrixDisplay(confusion_matrix = confusion_matrix, display_labels = [False, True])\n",
    "\n",
    "cm_display.plot()\n",
    "plt.show()\n",
    "\n",
    "print(classification_report(y_test,y_pred))\n",
    "\n",
    "acc = accuracy_score(y_test,y_pred)*100\n",
    "print(\"KNN accuracy: \",acc.round(2))\n",
    "\n",
    "f1=f1_score(y_test,y_pred)*100\n",
    "print(\"F1-Score: \",f1.round(2))\n",
    "\n",
    "cohen_kappa = cohen_kappa_score(y_test, y_pred)*100\n",
    "print('Cohen Kappa score: ',cohen_kappa.round(2))"
   ]
  },
  {
   "cell_type": "markdown",
   "id": "4e6f741d",
   "metadata": {},
   "source": [
    "### Gradient Boosting Classifier"
   ]
  },
  {
   "cell_type": "code",
   "execution_count": 37,
   "id": "e9405a94",
   "metadata": {},
   "outputs": [
    {
     "data": {
      "image/png": "[encoded data removed]",
      "text/plain": [
       "<Figure size 432x288 with 2 Axes>"
      ]
     },
     "metadata": {
      "needs_background": "light"
     },
     "output_type": "display_data"
    },
    {
     "name": "stdout",
     "output_type": "stream",
     "text": [
      "              precision    recall  f1-score   support\n",
      "\n",
      "           0       0.84      0.84      0.84      1166\n",
      "           1       0.82      0.83      0.83      1067\n",
      "\n",
      "    accuracy                           0.83      2233\n",
      "   macro avg       0.83      0.83      0.83      2233\n",
      "weighted avg       0.83      0.83      0.83      2233\n",
      "\n",
      "GBC accuracy:  83.43\n",
      "F1-Score:  82.73\n",
      "Cohen Kappa score:  66.81\n"
     ]
    }
   ],
   "source": [
    "from sklearn.ensemble import GradientBoostingClassifier\n",
    "\n",
    "gbc_model = GradientBoostingClassifier(n_estimators=100, learning_rate=0.8, max_depth=2, random_state=0)\n",
    "\n",
    "gbc_model.fit(X_train, y_train)\n",
    "\n",
    "y_pred = gbc_model.predict(X_test)\n",
    "\n",
    "confusion_matrix = confusion_matrix(y_test, y_pred)\n",
    "\n",
    "cm_display = ConfusionMatrixDisplay(confusion_matrix = confusion_matrix, display_labels = [False, True])\n",
    "\n",
    "cm_display.plot()\n",
    "plt.show()\n",
    "\n",
    "print(classification_report(y_test,y_pred))\n",
    "\n",
    "acc = accuracy_score(y_test,y_pred)*100\n",
    "print(\"GBC accuracy: \",acc.round(2))\n",
    "\n",
    "f1=f1_score(y_test,y_pred)*100\n",
    "print(\"F1-Score: \",f1.round(2))\n",
    "\n",
    "cohen_kappa = cohen_kappa_score(y_test, y_pred)*100\n",
    "print('Cohen Kappa score: ',cohen_kappa.round(2))"
   ]
  },
  {
   "cell_type": "markdown",
   "id": "f715515e",
   "metadata": {},
   "source": [
    "#### SVM model produced the highest accuracy score of 83.52 but K-Nearest neighbors had the lowest number of false positives at 136. \n",
    "\n",
    "#### Depending on the business strategy model, the marketing department could select the most ideal model based on the results of the accuracy, f1 score, and Cohen-Kappa score."
   ]
  },
  {
   "cell_type": "code",
   "execution_count": null,
   "id": "4905fbf8",
   "metadata": {},
   "outputs": [],
   "source": []
  }
 ],
 "metadata": {
  "kernelspec": {
   "display_name": "Python 3 (ipykernel)",
   "language": "python",
   "name": "python3"
  },
  "language_info": {
   "codemirror_mode": {
    "name": "ipython",
    "version": 3
   },
   "file_extension": ".py",
   "mimetype": "text/x-python",
   "name": "python",
   "nbconvert_exporter": "python",
   "pygments_lexer": "ipython3",
   "version": "3.9.12"
  }
 },
 "nbformat": 4,
 "nbformat_minor": 5
}
